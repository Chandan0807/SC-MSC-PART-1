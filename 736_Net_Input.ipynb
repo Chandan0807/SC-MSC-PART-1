{
 "cells": [
  {
   "cell_type": "code",
   "execution_count": 1,
   "id": "99033d53",
   "metadata": {},
   "outputs": [],
   "source": [
    "import math"
   ]
  },
  {
   "cell_type": "code",
   "execution_count": 2,
   "id": "7427330e",
   "metadata": {},
   "outputs": [
    {
     "name": "stdout",
     "output_type": "stream",
     "text": [
      "Enter the value for bias: 0.35\n",
      "Enter the number of input neurons: 3\n"
     ]
    }
   ],
   "source": [
    "bias = float(input(\"Enter the value for bias: \"))\n",
    "n = int(input(\"Enter the number of input neurons: \"))"
   ]
  },
  {
   "cell_type": "code",
   "execution_count": 3,
   "id": "c6655d95",
   "metadata": {},
   "outputs": [
    {
     "name": "stdout",
     "output_type": "stream",
     "text": [
      "bias value is 0.35\n",
      "U decided to go with 3 input neurons\n"
     ]
    }
   ],
   "source": [
    "print(\"bias value is\",bias)\n",
    "print(\"U decided to go with\",n,\"input neurons\")"
   ]
  },
  {
   "cell_type": "code",
   "execution_count": 4,
   "id": "61da1b35",
   "metadata": {},
   "outputs": [
    {
     "name": "stdout",
     "output_type": "stream",
     "text": [
      "Enter input value: 0.8\n",
      "Enter weight value: 0.1\n",
      "Enter input value: 0.6\n",
      "Enter weight value: 0.3\n",
      "Enter input value: 0.4\n",
      "Enter weight value: -0.2\n"
     ]
    }
   ],
   "source": [
    "weights=[]\n",
    "inputs=[]\n",
    "for i in range (0,n):\n",
    "    a=float(input(\"Enter input value: \"))\n",
    "    inputs.append(a)\n",
    "    b=float(input(\"Enter weight value: \"))\n",
    "    weights.append(b)"
   ]
  },
  {
   "cell_type": "code",
   "execution_count": 5,
   "id": "9553d7fa",
   "metadata": {},
   "outputs": [
    {
     "name": "stdout",
     "output_type": "stream",
     "text": [
      "Inputs are :\n",
      "[0.8, 0.6, 0.4]\n"
     ]
    }
   ],
   "source": [
    "print(\"Inputs are :\")\n",
    "print(inputs)"
   ]
  },
  {
   "cell_type": "code",
   "execution_count": 6,
   "id": "20cb3030",
   "metadata": {},
   "outputs": [
    {
     "name": "stdout",
     "output_type": "stream",
     "text": [
      "Weights are :\n",
      "[0.1, 0.3, -0.2]\n"
     ]
    }
   ],
   "source": [
    "print(\"Weights are :\")\n",
    "print(weights)"
   ]
  },
  {
   "cell_type": "code",
   "execution_count": 7,
   "id": "995d119d",
   "metadata": {},
   "outputs": [
    {
     "name": "stdout",
     "output_type": "stream",
     "text": [
      "Net Input is : 0.53\n"
     ]
    }
   ],
   "source": [
    "net_input = bias\n",
    "for i in range(0,n):\n",
    "    net_input = net_input + (weights[i]*inputs[i])\n",
    "print(\"Net Input is :\",net_input)"
   ]
  },
  {
   "cell_type": "code",
   "execution_count": 9,
   "id": "7a7f80e9",
   "metadata": {},
   "outputs": [
    {
     "name": "stdout",
     "output_type": "stream",
     "text": [
      "Output using binary sigmoidal activation function 0.629\n"
     ]
    }
   ],
   "source": [
    "#Calculating output using binary sigmoidal activation function\n",
    "binary_op=1/(1+(math.exp(-net_input)))\n",
    "print(\"Output using binary sigmoidal activation function\",\n",
    "     round(binary_op,3))"
   ]
  },
  {
   "cell_type": "code",
   "execution_count": 10,
   "id": "fe5458a6",
   "metadata": {},
   "outputs": [
    {
     "name": "stdout",
     "output_type": "stream",
     "text": [
      "Output using bipolar sigmoidal activation function 0.259\n"
     ]
    }
   ],
   "source": [
    "#Calculating output using binary sigmoidal activation function\n",
    "bipolar_op=-1+(2/(1+(math.exp(-net_input))))\n",
    "print(\"Output using bipolar sigmoidal activation function\",\n",
    "     round(bipolar_op,3))"
   ]
  },
  {
   "cell_type": "code",
   "execution_count": null,
   "id": "51d6130d",
   "metadata": {},
   "outputs": [],
   "source": []
  }
 ],
 "metadata": {
  "kernelspec": {
   "display_name": "Python 3 (ipykernel)",
   "language": "python",
   "name": "python3"
  },
  "language_info": {
   "codemirror_mode": {
    "name": "ipython",
    "version": 3
   },
   "file_extension": ".py",
   "mimetype": "text/x-python",
   "name": "python",
   "nbconvert_exporter": "python",
   "pygments_lexer": "ipython3",
   "version": "3.9.13"
  }
 },
 "nbformat": 4,
 "nbformat_minor": 5
}
